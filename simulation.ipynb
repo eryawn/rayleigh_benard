{
 "cells": [
  {
   "cell_type": "code",
   "execution_count": null,
   "metadata": {},
   "outputs": [],
   "source": [
    "from dedalus.tools import post\n",
    "import numpy as np\n",
    "import matplotlib.pyplot as plt\n",
    "import matplotlib.animation as ani\n",
    "import time\n",
    "import h5py\n",
    "import pathlib\n",
    "import shutil\n",
    "import random\n",
    "import logging\n",
    "from dedalus.extras import flow_tools\n",
    "import dedalus.public as de\n",
    "logger = logging.getLogger('2DRB')"
   ]
  },
  {
   "cell_type": "code",
   "execution_count": null,
   "metadata": {},
   "outputs": [],
   "source": [
    "#non-dimensionless numbers\n",
    "Lx, d = (5. ,1. )\n",
    "xres, zres = (128, 64)\n",
    "Ra = 100000\n",
    "Pr = 5\n",
    "\n",
    "xbasis = de.Fourier('x',xres,interval=(0,Lx),dealias=3/2)\n",
    "zbasis = de.Chebyshev('z',zres,interval=(0,d),dealias=3/2)\n",
    "domain = de.Domain([xbasis,zbasis],grid_dtype=np.float64)\n",
    "problem = de.IVP(domain,variables=['T','p','u','w','Tz','uz','wz'])"
   ]
  },
  {
   "cell_type": "code",
   "execution_count": null,
   "metadata": {},
   "outputs": [],
   "source": [
    "#input equations\n",
    "problem.parameters['Pr'] = Pr\n",
    "problem.parameters['Ra'] = Ra\n",
    "problem.parameters['xres'] = xres\n",
    "problem.add_equation(\"dt(u) + dx(p) - (dx(dx(u)) + dz(uz)) = - (u * dx(u) + w * uz)\")\n",
    "problem.add_equation(\"dt(w) + dz(p) - (dx(dx(w)) + dz(wz)) - (Ra / Pr) * T = - (u * dx(w) + w * wz)\")\n",
    "problem.add_equation(\"dt(T) - (1 / Pr) * (dx(dx(T)) + dz(Tz)) = - (u * dx(T) + w * Tz)\")\n",
    "problem.add_equation(\"dz(u) - uz = 0\")\n",
    "problem.add_equation(\"dz(w) - wz = 0\")\n",
    "problem.add_equation(\"dz(T) - Tz = 0\")\n",
    "problem.add_equation(\"dx(u) + wz = 0\")\n",
    "problem.add_bc(\"right(T) = 0.2\")\n",
    "problem.add_bc(\"left(Tz) = 1\")\n",
    "problem.add_bc(\"left(u) = 0\")\n",
    "problem.add_bc(\"right(u) = 0\")\n",
    "problem.add_bc(\"left(w) = 0\")\n",
    "problem.add_bc(\"right(w) = 0\",condition=\"(nx != 0)\")\n",
    "problem.add_bc(\"right(p) = 0\",condition=\"(nx == 0)\")"
   ]
  },
  {
   "cell_type": "code",
   "execution_count": null,
   "metadata": {},
   "outputs": [],
   "source": [
    "#solver\n",
    "solver = problem.build_solver(de.timesteppers.RK111)\n",
    "logger.info('Solver built')"
   ]
  },
  {
   "cell_type": "code",
   "execution_count": null,
   "metadata": {},
   "outputs": [],
   "source": [
    "if not pathlib.Path('restart.h5').exists():\n",
    "    x, z = domain.all_grids()\n",
    "    T = solver.state['T']\n",
    "    Tz = solver.state['Tz']\n",
    "    \n",
    "    #perturbations\n",
    "    gshape = domain.dist.grid_layout.global_shape(scales=1)\n",
    "    slices = domain.dist.grid_layout.slices(scales=1)\n",
    "    rand = np.random.RandomState(seed=42)\n",
    "    noise = rand.standard_normal(gshape)[slices]\n",
    "    zb,zt = zbasis.interval\n",
    "    pert = 1e-1 * noise * (zt - z) * (z - zb)\n",
    "    T['g'] = pert\n",
    "    T.differentiate('z',out=Tz)\n",
    "    dt = 1e-5\n",
    "    stop_sim_time = 5\n",
    "    fh_mode = 'overwrite'\n",
    "\n",
    "else:\n",
    "    write,last_dt = solver.load_state('restart.h5', -1\n",
    "    dt = last_dt\n",
    "    stop_sim_time = 5e-3\n",
    "    fh_mode = 'append'"
   ]
  },
  {
   "cell_type": "code",
   "execution_count": null,
   "metadata": {},
   "outputs": [],
   "source": [
    "solver.stop_sim_time = stop_sim_time\n",
    "solver.stop_wall_time = np.inf\n",
    "solver.stop_iteration = np.inf\n",
    "\n",
    "shutil.rmtree('snapshots', ignore_errors=True)\n",
    "snapshots = solver.evaluator.add_file_handler('snapshots',sim_dt=1e-3,max_writes=200,mode=fh_mode)\n",
    "snapshots.add_task(\"integ(T,'x')/xres\", layout='g', name='<Tx>')\n",
    "snapshots.add_task(\"0.5 * (u ** 2 + w ** 2)\", layout='g', name='KE')\n",
    "snapshots.add_task(\"sqrt(u ** 2 + w ** 2)\", layout='g', name='|uvec|')\n",
    "snapshots.add_system(solver.state)\n",
    "\n",
    "#CFL (don't touch)\n",
    "CFL = flow_tools.CFL(solver, initial_dt=dt, cadence=10, safety=0.5, max_change=1.5, min_change=1, max_dt=1e-3, threshold=0.05)\n",
    "CFL.add_velocities(('u', 'w'))\n",
    "\n",
    "flow = flow_tools.GlobalFlowProperty(solver, cadence=10)\n",
    "flow.add_property(\"sqrt(u ** 2 + w ** 2)/Ra\", name='Re')"
   ]
  },
  {
   "cell_type": "code",
   "execution_count": null,
   "metadata": {},
   "outputs": [],
   "source": [
    "try:\n",
    "    logger.info('Starting loop')\n",
    "    start_time = time.time()\n",
    "    while solver.proceed:\n",
    "        dt = CFL.compute_dt()\n",
    "        dt = solver.step(dt)\n",
    "        if (solver.iteration-1) % 10 == 0:\n",
    "            logger.info('Iteration: %i, Time: %e, dt: %e' %(solver.iteration, solver.sim_time, dt))\n",
    "except:\n",
    "    logger.error('Exception raised, triggering end of main loop.')\n",
    "    raise\n",
    "finally:\n",
    "    end_time = time.time()\n",
    "    logger.info('Iterations: %i' %solver.iteration)\n",
    "    logger.info('Sim end time: %f' %solver.sim_time)\n",
    "    logger.info('Run time: %.2f minutes' %((end_time-start_time)/60))"
   ]
  },
  {
   "cell_type": "code",
   "execution_count": null,
   "metadata": {},
   "outputs": [],
   "source": [
    "post.merge_process_files(\"snapshots\", cleanup=True)\n",
    "set_paths = list(pathlib.Path(\"snapshots\").glob(\"snapshots_s*.h5\"))\n",
    "post.merge_sets(\"snapshots/snapshots.h5\", set_paths, cleanup=True)"
   ]
  },
  {
   "cell_type": "code",
   "execution_count": null,
   "metadata": {},
   "outputs": [],
   "source": [
    "#gif\n",
    "with h5py.File(\"./snapshots/snapshots.h5\", mode='r') as file:\n",
    "\n",
    "    # Load datasets\n",
    "    T = file['tasks']['T']\n",
    "    t = T.dims[0]['sim_time']\n",
    "    x = T.dims[1][0]\n",
    "    z = T.dims[2][0]\n",
    "\n",
    "    def animate(frame):\n",
    "        quad.set_array(frame.T)\n",
    "\n",
    "    #Plot data\n",
    "    fig = plt.figure(figsize=(7, 6), dpi=100)\n",
    "    quad = plt.pcolormesh(x, z, T[0].T, shading='nearest', cmap='coolwarm',vmin=0,vmax=1e-1)\n",
    "    plt.colorbar()\n",
    "    plt.xlabel('x')\n",
    "    plt.ylabel('z')\n",
    "    plt.tight_layout()\n",
    "    \n",
    "    #Animation\n",
    "    animation = ani.FuncAnimation(fig, animate, frames=T[:])\n",
    "    animation.save('convection.gif',fps=200)"
   ]
  },
  {
   "cell_type": "code",
   "execution_count": null,
   "metadata": {},
   "outputs": [],
   "source": []
  },
  {
   "cell_type": "code",
   "execution_count": null,
   "metadata": {},
   "outputs": [],
   "source": []
  },
  {
   "cell_type": "code",
   "execution_count": null,
   "metadata": {},
   "outputs": [],
   "source": []
  },
  {
   "cell_type": "code",
   "execution_count": null,
   "metadata": {},
   "outputs": [],
   "source": []
  },
  {
   "cell_type": "code",
   "execution_count": null,
   "metadata": {},
   "outputs": [],
   "source": []
  }
 ],
 "metadata": {
  "kernelspec": {
   "display_name": "Python 3",
   "language": "python",
   "name": "python3"
  },
  "language_info": {
   "codemirror_mode": {
    "name": "ipython",
    "version": 3
   },
   "file_extension": ".py",
   "mimetype": "text/x-python",
   "name": "python",
   "nbconvert_exporter": "python",
   "pygments_lexer": "ipython3",
   "version": "3.8.3"
  }
 },
 "nbformat": 4,
 "nbformat_minor": 2
}
